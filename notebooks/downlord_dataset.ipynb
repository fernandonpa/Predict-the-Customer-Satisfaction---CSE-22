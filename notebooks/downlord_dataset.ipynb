{
 "cells": [
  {
   "cell_type": "markdown",
   "metadata": {},
   "source": [
    "# **Predict the Customer Satisfaction - CSE 22**\n",
    "\n",
    "### Dataset Description\n",
    "#### **Files**\n",
    "- **train.csv** - The training set, containing both the features and the target variable `customer_experience`. Use this data to train your model.\n",
    "- **test.csv** - The test set, containing the features only. You will predict the target variable `customer_experience` for this set.\n",
    "- **sample_submission.csv** - A sample submission file that shows the correct format for submitting your predictions. This file contains `id` and `customer_experience` columns."
   ]
  },
  {
   "cell_type": "markdown",
   "metadata": {},
   "source": [
    "#### **Download Dataset**"
   ]
  },
  {
   "cell_type": "code",
   "execution_count": 2,
   "metadata": {},
   "outputs": [],
   "source": [
    "import numpy as np"
   ]
  },
  {
   "cell_type": "code",
   "execution_count": 3,
   "metadata": {},
   "outputs": [],
   "source": [
    "import json\n",
    "with open('../artifacts/kaggle.json') as f:\n",
    "    data = json.load(f)"
   ]
  },
  {
   "cell_type": "code",
   "execution_count": 4,
   "metadata": {},
   "outputs": [
    {
     "name": "stdout",
     "output_type": "stream",
     "text": [
      "Requirement already satisfied: kaggle in c:\\users\\npafe\\desktop\\machine learning\\predict-the-customer-satisfaction---cse-22\\env\\lib\\site-packages (1.6.17)\n",
      "Requirement already satisfied: six>=1.10 in c:\\users\\npafe\\desktop\\machine learning\\predict-the-customer-satisfaction---cse-22\\env\\lib\\site-packages (from kaggle) (1.17.0)\n",
      "Requirement already satisfied: certifi>=2023.7.22 in c:\\users\\npafe\\desktop\\machine learning\\predict-the-customer-satisfaction---cse-22\\env\\lib\\site-packages (from kaggle) (2024.12.14)\n",
      "Requirement already satisfied: python-dateutil in c:\\users\\npafe\\desktop\\machine learning\\predict-the-customer-satisfaction---cse-22\\env\\lib\\site-packages (from kaggle) (2.9.0.post0)\n",
      "Requirement already satisfied: requests in c:\\users\\npafe\\desktop\\machine learning\\predict-the-customer-satisfaction---cse-22\\env\\lib\\site-packages (from kaggle) (2.32.3)\n",
      "Requirement already satisfied: tqdm in c:\\users\\npafe\\desktop\\machine learning\\predict-the-customer-satisfaction---cse-22\\env\\lib\\site-packages (from kaggle) (4.67.1)\n",
      "Requirement already satisfied: python-slugify in c:\\users\\npafe\\desktop\\machine learning\\predict-the-customer-satisfaction---cse-22\\env\\lib\\site-packages (from kaggle) (8.0.4)\n",
      "Requirement already satisfied: urllib3 in c:\\users\\npafe\\desktop\\machine learning\\predict-the-customer-satisfaction---cse-22\\env\\lib\\site-packages (from kaggle) (2.3.0)\n",
      "Requirement already satisfied: bleach in c:\\users\\npafe\\desktop\\machine learning\\predict-the-customer-satisfaction---cse-22\\env\\lib\\site-packages (from kaggle) (6.2.0)\n",
      "Requirement already satisfied: webencodings in c:\\users\\npafe\\desktop\\machine learning\\predict-the-customer-satisfaction---cse-22\\env\\lib\\site-packages (from bleach->kaggle) (0.5.1)\n",
      "Requirement already satisfied: text-unidecode>=1.3 in c:\\users\\npafe\\desktop\\machine learning\\predict-the-customer-satisfaction---cse-22\\env\\lib\\site-packages (from python-slugify->kaggle) (1.3)\n",
      "Requirement already satisfied: charset-normalizer<4,>=2 in c:\\users\\npafe\\desktop\\machine learning\\predict-the-customer-satisfaction---cse-22\\env\\lib\\site-packages (from requests->kaggle) (3.4.1)\n",
      "Requirement already satisfied: idna<4,>=2.5 in c:\\users\\npafe\\desktop\\machine learning\\predict-the-customer-satisfaction---cse-22\\env\\lib\\site-packages (from requests->kaggle) (3.10)\n",
      "Requirement already satisfied: colorama in c:\\users\\npafe\\desktop\\machine learning\\predict-the-customer-satisfaction---cse-22\\env\\lib\\site-packages (from tqdm->kaggle) (0.4.6)\n",
      "Note: you may need to restart the kernel to use updated packages.\n"
     ]
    }
   ],
   "source": [
    "%pip install kaggle"
   ]
  },
  {
   "cell_type": "code",
   "execution_count": 5,
   "metadata": {},
   "outputs": [],
   "source": [
    "import os\n",
    "\n",
    "os.environ['KAGGLE_USERNAME'] = data['username']\n",
    "os.environ['KAGGLE_KEY'] = data['key']\n",
    "\n",
    "from kaggle.api.kaggle_api_extended import KaggleApi\n",
    "\n",
    "api = KaggleApi()\n",
    "api.authenticate()"
   ]
  },
  {
   "cell_type": "code",
   "execution_count": 6,
   "metadata": {},
   "outputs": [],
   "source": [
    "# download 'kaggle competitions download -c Predict-the-Customer-Satisfaction-CSE-22' competition dataset\n",
    "\n",
    "\n",
    "api.competition_download_files('Predict-the-Customer-Satisfaction-CSE-22', path='../artifacts/')"
   ]
  },
  {
   "cell_type": "code",
   "execution_count": 7,
   "metadata": {},
   "outputs": [],
   "source": [
    "# unzip the files\n",
    "\n",
    "import zipfile\n",
    "\n",
    "with zipfile.ZipFile('../artifacts/Predict-the-Customer-Satisfaction-CSE-22.zip', 'r') as zip_ref:\n",
    "    zip_ref.extractall('../artifacts/')"
   ]
  }
 ],
 "metadata": {
  "kernelspec": {
   "display_name": "env",
   "language": "python",
   "name": "python3"
  },
  "language_info": {
   "codemirror_mode": {
    "name": "ipython",
    "version": 3
   },
   "file_extension": ".py",
   "mimetype": "text/x-python",
   "name": "python",
   "nbconvert_exporter": "python",
   "pygments_lexer": "ipython3",
   "version": "3.11.3"
  }
 },
 "nbformat": 4,
 "nbformat_minor": 2
}
